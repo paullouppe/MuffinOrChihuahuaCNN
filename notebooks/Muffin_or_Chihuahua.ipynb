{
 "cells": [
  {
   "cell_type": "code",
   "execution_count": null,
   "metadata": {},
   "outputs": [],
   "source": [
    "import os"
   ]
  },
  {
   "cell_type": "code",
   "execution_count": 3,
   "metadata": {},
   "outputs": [
    {
     "name": "stdout",
     "output_type": "stream",
     "text": [
      "Dataset already exists. Using cached version.\n"
     ]
    }
   ],
   "source": [
    "dataset_path = '../dataset'\n",
    "\n",
    "if not os.path.exists(dataset_path) or not os.listdir(dataset_path):\n",
    "    print(\"Dataset not found. Downloading now...\")\n",
    "    \n",
    "    # Install Kaggle API if not already installed\n",
    "    %pip install --quiet kaggle\n",
    "    \n",
    "    os.makedirs(dataset_path, exist_ok=True)\n",
    "    \n",
    "    !kaggle datasets download -d samuelcortinhas/muffin-vs-chihuahua-image-classification -p {dataset_path}\n",
    "    \n",
    "    # Unzip dataset\n",
    "    import zipfile\n",
    "    with zipfile.ZipFile(os.path.join(dataset_path, 'muffin-vs-chihuahua-image-classification.zip'), 'r') as zip_ref:\n",
    "        zip_ref.extractall(dataset_path)\n",
    "    \n",
    "    os.remove(os.path.join(dataset_path, 'muffin-vs-chihuahua-image-classification.zip'))\n",
    "    \n",
    "    print(\"Dataset downloaded and extracted successfully.\")\n",
    "else:\n",
    "    print(\"Dataset already exists. Using cached version.\")\n"
   ]
  }
 ],
 "metadata": {
  "kernelspec": {
   "display_name": ".venv",
   "language": "python",
   "name": "python3"
  },
  "language_info": {
   "codemirror_mode": {
    "name": "ipython",
    "version": 3
   },
   "file_extension": ".py",
   "mimetype": "text/x-python",
   "name": "python",
   "nbconvert_exporter": "python",
   "pygments_lexer": "ipython3",
   "version": "3.12.6"
  }
 },
 "nbformat": 4,
 "nbformat_minor": 2
}
