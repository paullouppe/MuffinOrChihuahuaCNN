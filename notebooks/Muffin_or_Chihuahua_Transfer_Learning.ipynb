{
 "cells": [
  {
   "cell_type": "markdown",
   "metadata": {},
   "source": [
    "# Chihuahua VS Muffins \n",
    "### (avec du transfer learning)"
   ]
  },
  {
   "cell_type": "code",
   "execution_count": null,
   "metadata": {},
   "outputs": [],
   "source": [
    "import os"
   ]
  },
  {
   "cell_type": "markdown",
   "metadata": {},
   "source": [
    "## Importe les données depuis l'API Kaggle et les sauvegardes en cache"
   ]
  },
  {
   "cell_type": "code",
   "execution_count": null,
   "metadata": {},
   "outputs": [
    {
     "name": "stdout",
     "output_type": "stream",
     "text": [
      "Dataset already exists. Using cached version.\n"
     ]
    }
   ],
   "source": [
    "dataset_path = '../dataset'\n",
    "\n",
    "if not os.path.exists(dataset_path) or not os.listdir(dataset_path):\n",
    "    print(\"Dataset not found. Downloading now...\")\n",
    "    \n",
    "    %pip install --quiet kaggle\n",
    "    \n",
    "    os.makedirs(dataset_path, exist_ok=True)\n",
    "    \n",
    "    !kaggle datasets download -d samuelcortinhas/muffin-vs-chihuahua-image-classification -p {dataset_path}\n",
    "    \n",
    "    import zipfile\n",
    "    with zipfile.ZipFile(os.path.join(dataset_path, 'muffin-vs-chihuahua-image-classification.zip'), 'r') as zip_ref:\n",
    "        zip_ref.extractall(dataset_path)\n",
    "    \n",
    "    os.remove(os.path.join(dataset_path, 'muffin-vs-chihuahua-image-classification.zip'))\n",
    "    \n",
    "    print(\"Dataset downloaded and extracted successfully.\")\n",
    "else:\n",
    "    print(\"Dataset already exists. Using cached version.\")\n"
   ]
  }
 ],
 "metadata": {
  "language_info": {
   "name": "python"
  }
 },
 "nbformat": 4,
 "nbformat_minor": 2
}
